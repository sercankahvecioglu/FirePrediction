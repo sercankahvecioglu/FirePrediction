{
 "cells": [
  {
   "cell_type": "code",
   "execution_count": 1,
   "id": "bb7ca75c",
   "metadata": {},
   "outputs": [],
   "source": [
    "import pyarrow.parquet as pq\n",
    "import pandas as pd\n",
    "\n",
    "metadata_path = r\"C:\\Users\\mayer\\Работен плот\\final forest detector\\metadata.parquet\"\n",
    "\n",
    "# # table = pq.read_table(metadata_path)\n",
    "# # df = table.to_pandas()\n",
    "# print(\"Available columns in metadata:\", df.columns.tolist())\n",
    "\n",
    "#print(df.head())\n",
    "#print(df.columns)"
   ]
  },
  {
   "cell_type": "code",
   "execution_count": 90,
   "id": "91a3d204",
   "metadata": {},
   "outputs": [
    {
     "name": "stdout",
     "output_type": "stream",
     "text": [
      "Requirement already satisfied: torch in c:\\users\\mayer\\anaconda3\\lib\\site-packages (2.7.1)\n",
      "Requirement already satisfied: torchvision in c:\\users\\mayer\\anaconda3\\lib\\site-packages (0.22.1)\n",
      "Requirement already satisfied: filelock in c:\\users\\mayer\\anaconda3\\lib\\site-packages (from torch) (3.17.0)\n",
      "Requirement already satisfied: typing-extensions>=4.10.0 in c:\\users\\mayer\\anaconda3\\lib\\site-packages (from torch) (4.12.2)\n",
      "Requirement already satisfied: sympy>=1.13.3 in c:\\users\\mayer\\anaconda3\\lib\\site-packages (from torch) (1.13.3)\n",
      "Requirement already satisfied: networkx in c:\\users\\mayer\\anaconda3\\lib\\site-packages (from torch) (3.4.2)\n",
      "Requirement already satisfied: jinja2 in c:\\users\\mayer\\anaconda3\\lib\\site-packages (from torch) (3.1.6)\n",
      "Requirement already satisfied: fsspec in c:\\users\\mayer\\anaconda3\\lib\\site-packages (from torch) (2025.3.2)\n",
      "Requirement already satisfied: setuptools in c:\\users\\mayer\\anaconda3\\lib\\site-packages (from torch) (72.1.0)\n",
      "Requirement already satisfied: numpy in c:\\users\\mayer\\anaconda3\\lib\\site-packages (from torchvision) (2.1.3)\n",
      "Requirement already satisfied: pillow!=8.3.*,>=5.3.0 in c:\\users\\mayer\\anaconda3\\lib\\site-packages (from torchvision) (11.1.0)\n",
      "Requirement already satisfied: mpmath<1.4,>=1.1.0 in c:\\users\\mayer\\anaconda3\\lib\\site-packages (from sympy>=1.13.3->torch) (1.3.0)\n",
      "Requirement already satisfied: MarkupSafe>=2.0 in c:\\users\\mayer\\anaconda3\\lib\\site-packages (from jinja2->torch) (3.0.2)\n",
      "Requirement already satisfied: tqdm in c:\\users\\mayer\\appdata\\local\\programs\\python\\python313\\lib\\site-packages (4.67.1)\n",
      "Requirement already satisfied: colorama in c:\\users\\mayer\\appdata\\roaming\\python\\python313\\site-packages (from tqdm) (0.4.6)\n",
      "Note: you may need to restart the kernel to use updated packages.\n"
     ]
    },
    {
     "name": "stderr",
     "output_type": "stream",
     "text": [
      "\n",
      "[notice] A new release of pip is available: 25.1.1 -> 25.2\n",
      "[notice] To update, run: python.exe -m pip install --upgrade pip\n"
     ]
    },
    {
     "name": "stdout",
     "output_type": "stream",
     "text": [
      "Requirement already satisfied: pandas in c:\\users\\mayer\\appdata\\local\\programs\\python\\python313\\lib\\site-packages (2.3.1)\n",
      "Requirement already satisfied: numpy>=1.26.0 in c:\\users\\mayer\\appdata\\local\\programs\\python\\python313\\lib\\site-packages (from pandas) (2.3.1)\n",
      "Requirement already satisfied: python-dateutil>=2.8.2 in c:\\users\\mayer\\appdata\\roaming\\python\\python313\\site-packages (from pandas) (2.9.0.post0)\n",
      "Requirement already satisfied: pytz>=2020.1 in c:\\users\\mayer\\appdata\\local\\programs\\python\\python313\\lib\\site-packages (from pandas) (2025.2)\n",
      "Requirement already satisfied: tzdata>=2022.7 in c:\\users\\mayer\\appdata\\local\\programs\\python\\python313\\lib\\site-packages (from pandas) (2025.2)\n",
      "Requirement already satisfied: six>=1.5 in c:\\users\\mayer\\appdata\\roaming\\python\\python313\\site-packages (from python-dateutil>=2.8.2->pandas) (1.17.0)\n",
      "Note: you may need to restart the kernel to use updated packages.\n"
     ]
    },
    {
     "name": "stderr",
     "output_type": "stream",
     "text": [
      "\n",
      "[notice] A new release of pip is available: 25.1.1 -> 25.2\n",
      "[notice] To update, run: python.exe -m pip install --upgrade pip\n"
     ]
    },
    {
     "name": "stdout",
     "output_type": "stream",
     "text": [
      "Requirement already satisfied: pyarrow in c:\\users\\mayer\\appdata\\local\\programs\\python\\python313\\lib\\site-packages (21.0.0)\n",
      "Note: you may need to restart the kernel to use updated packages.\n"
     ]
    },
    {
     "name": "stderr",
     "output_type": "stream",
     "text": [
      "\n",
      "[notice] A new release of pip is available: 25.1.1 -> 25.2\n",
      "[notice] To update, run: python.exe -m pip install --upgrade pip\n",
      "\n",
      "[notice] A new release of pip is available: 25.1.1 -> 25.2\n",
      "[notice] To update, run: python.exe -m pip install --upgrade pip\n"
     ]
    },
    {
     "name": "stdout",
     "output_type": "stream",
     "text": [
      "Requirement already satisfied: fastparquet in c:\\users\\mayer\\appdata\\local\\programs\\python\\python313\\lib\\site-packages (2024.11.0)\n",
      "Requirement already satisfied: pandas>=1.5.0 in c:\\users\\mayer\\appdata\\local\\programs\\python\\python313\\lib\\site-packages (from fastparquet) (2.3.1)\n",
      "Requirement already satisfied: numpy in c:\\users\\mayer\\appdata\\local\\programs\\python\\python313\\lib\\site-packages (from fastparquet) (2.3.1)\n",
      "Requirement already satisfied: cramjam>=2.3 in c:\\users\\mayer\\appdata\\local\\programs\\python\\python313\\lib\\site-packages (from fastparquet) (2.11.0)\n",
      "Requirement already satisfied: fsspec in c:\\users\\mayer\\appdata\\local\\programs\\python\\python313\\lib\\site-packages (from fastparquet) (2025.7.0)\n",
      "Requirement already satisfied: packaging in c:\\users\\mayer\\appdata\\roaming\\python\\python313\\site-packages (from fastparquet) (25.0)\n",
      "Requirement already satisfied: python-dateutil>=2.8.2 in c:\\users\\mayer\\appdata\\roaming\\python\\python313\\site-packages (from pandas>=1.5.0->fastparquet) (2.9.0.post0)\n",
      "Requirement already satisfied: pytz>=2020.1 in c:\\users\\mayer\\appdata\\local\\programs\\python\\python313\\lib\\site-packages (from pandas>=1.5.0->fastparquet) (2025.2)\n",
      "Requirement already satisfied: tzdata>=2022.7 in c:\\users\\mayer\\appdata\\local\\programs\\python\\python313\\lib\\site-packages (from pandas>=1.5.0->fastparquet) (2025.2)\n",
      "Requirement already satisfied: six>=1.5 in c:\\users\\mayer\\appdata\\roaming\\python\\python313\\site-packages (from python-dateutil>=2.8.2->pandas>=1.5.0->fastparquet) (1.17.0)\n",
      "Note: you may need to restart the kernel to use updated packages.\n"
     ]
    }
   ],
   "source": [
    "# INSTALL DEPENDENCIES (Colab only)\n",
    "!pip install torch torchvision\n",
    "\n",
    "# IMPORTS\n",
    "import os\n",
    "import numpy as np\n",
    "import torch\n",
    "import torch.nn as nn\n",
    "import torch.nn.functional as F\n",
    "from torch.utils.data import Dataset, DataLoader, random_split\n",
    "from torchvision import transforms\n",
    "import rasterio \n",
    "# CUSTOM DATASET\n",
    "import rasterio\n",
    "import json\n",
    "\n",
    "%pip install tqdm\n",
    "from tqdm import tqdm\n",
    "#loads the data from the BigEarthNet dataset, which is the strangly configurated one \n",
    "%pip install pandas \n",
    "import pandas as pd\n",
    "\n",
    "%pip install pyarrow\n",
    "import pyarrow\n",
    "\n",
    "%pip install fastparquet\n",
    "import fastparquet\n",
    "metadata_path = r\"C:\\Users\\mayer\\Работен плот\\final forest detector\\metadata.parquet\"\n",
    "\n",
    "import pyarrow as pa\n",
    "import pyarrow.parquet as pq\n",
    "\n",
    "table = pq.read_table(metadata_path)\n",
    "df = table.to_pandas()\n",
    "\n",
    "class BigEarthNetVegetationDataset(Dataset):\n",
    "    def __init__(self, root_dir, transform=None, metadata_file=\"metadata.parquet\", filter_cloud=True):\n",
    "        self.root_dir = root_dir\n",
    "        self.samples = []\n",
    "        self.transform = transform\n",
    "\n",
    "        # Load metadata\n",
    "        #metadata_path = os.path.join(root_dir, metadata_file)\n",
    "        metadata_path = r\"C:\\Users\\mayer\\Работен плот\\final forest detector\\metadata.parquet\"\n",
    "        import pyarrow.parquet as pq\n",
    "        table = pq.read_table(metadata_path)\n",
    "        df = table.to_pandas()\n",
    "\n",
    "        # Optional: remove patches with clouds/snow\n",
    "        if filter_cloud:\n",
    "            if \"contains_cloud_or_shadow\" in df.columns:\n",
    "                df = df[df[\"contains_cloud_or_shadow\"] == False]\n",
    "            if \"contains_seasonal_snow\" in df.columns:\n",
    "                df = df[df[\"contains_seasonal_snow\"] == False]\n",
    "\n",
    "        # Forest label set\n",
    "        self.forest_labels = set([\n",
    "            \"Forest\", \"Broad-leaved forest\", \"Coniferous forest\",\n",
    "            \"Mixed forest\", \"Transitional woodland, shrub\"\n",
    "        ])\n",
    "        # Add binary label column\n",
    "        df[\"binary_label\"] = df[\"labels\"].apply(lambda labels: 1.0 if set(labels) & self.forest_labels else 0.0)\n",
    "\n",
    "        # Select 10 samples with forest and 10 without\n",
    "        forest_df = df[df[\"binary_label\"] == 1.0].sample(n=15000, random_state=42)\n",
    "        non_forest_df = df[df[\"binary_label\"] == 0.0].sample(n=15000, random_state=42)\n",
    "        df = pd.concat([forest_df, non_forest_df]).reset_index(drop=True)\n",
    "\n",
    "\n",
    "        for _, row in df.iterrows():\n",
    "            patch_id = row[\"patch_id\"]\n",
    "            labels = set(row[\"labels\"])\n",
    "\n",
    "            # Map to binary: forest vs. no forest\n",
    "            binary_label = 1.0 if labels & self.forest_labels else 0.0\n",
    "\n",
    "            # Locate patch folder inside the root folder\n",
    "            found = False\n",
    "            for tile_folder in os.listdir(root_dir):\n",
    "                tile_path = os.path.join(root_dir, tile_folder)\n",
    "                patch_path = os.path.join(tile_path, patch_id)\n",
    "                if os.path.isdir(patch_path):\n",
    "                    found = True\n",
    "                    break\n",
    "\n",
    "            if not found:\n",
    "                continue  # Skip if folder not found\n",
    "\n",
    "            try:\n",
    "                # Load Sentinel-2 bands\n",
    "                blue = rasterio.open(os.path.join(patch_path, patch_id + \"_B02.tif\")).read(1).astype(np.float32) / 10000.0\n",
    "                green = rasterio.open(os.path.join(patch_path, patch_id + \"_B03.tif\")).read(1).astype(np.float32) / 10000.0\n",
    "                red = rasterio.open(os.path.join(patch_path, patch_id + \"_B04.tif\")).read(1).astype(np.float32) / 10000.0\n",
    "                nir = rasterio.open(os.path.join(patch_path, patch_id + \"_B08.tif\")).read(1).astype(np.float32) / 10000.0\n",
    "\n",
    "                # Compute NDVI\n",
    "                ndvi = (nir - red) / (nir + red + 1e-5)\n",
    "\n",
    "                # Stack channels: [4, H, W]\n",
    "                stacked = np.stack([red, green, blue, ndvi], axis=0)\n",
    "\n",
    "                self.samples.append((stacked, binary_label))\n",
    "\n",
    "            except Exception as e:\n",
    "                print(f\"Skipping {patch_id} due to error: {e}\")\n",
    "\n",
    "    def __len__(self):\n",
    "        return len(self.samples)\n",
    "\n",
    "    def __getitem__(self, idx):\n",
    "        image, label = self.samples[idx]\n",
    "        tensor = torch.tensor(image, dtype=torch.float32)\n",
    "        tensor = F.interpolate(tensor.unsqueeze(0), size=(64, 64), mode='bilinear', align_corners=False).squeeze(0)\n",
    "        return tensor, torch.tensor(label, dtype=torch.float32)\n",
    "\n",
    "\n",
    "\n",
    "class VegetationDataset(Dataset):\n",
    "    def __init__(self, root_dir):\n",
    "        self.root_dir = root_dir\n",
    "        self.samples = []\n",
    "\n",
    "        for label, subfolder in enumerate(['NO_VEGETATION', 'VEGETATION']):\n",
    "            folder = os.path.join(root_dir, subfolder)\n",
    "            for file in os.listdir(folder):\n",
    "                if file.endswith(('.npy', '.tif', '.tiff')):\n",
    "                    self.samples.append((os.path.join(folder, file), label))\n",
    "\n",
    "    def __len__(self):\n",
    "        return len(self.samples)\n",
    "\n",
    "    def __getitem__(self, idx):\n",
    "        path, label = self.samples[idx]\n",
    "\n",
    "        if path.endswith('.npy'):\n",
    "            array = np.load(path)  # shape: [H, W, 15]\n",
    "            red = array[:, :, 3] / 10000.0\n",
    "            green = array[:, :, 2] / 10000.0\n",
    "            blue = array[:, :, 1] / 10000.0\n",
    "            ndvi = array[:, :, 13]\n",
    "        elif path.endswith(('.tif', '.tiff')):\n",
    "            with rasterio.open(path) as src:\n",
    "                try:\n",
    "                    red = src.read(4).astype(np.float32) / 10000.0\n",
    "                    green = src.read(3).astype(np.float32) / 10000.0\n",
    "                    blue = src.read(2).astype(np.float32) / 10000.0\n",
    "                    nir = src.read(8).astype(np.float32) / 10000.0\n",
    "                except IndexError:\n",
    "                    raise ValueError(f\"{os.path.basename(path)} doesn't contain required bands 2, 3, 4, and 8\")\n",
    "                ndvi = (nir - red) / (nir + red + 1e-5)\n",
    "        else:\n",
    "            raise ValueError(f\"Unsupported file format: {path}\")\n",
    "\n",
    "        # Stack and resize\n",
    "        stacked = np.stack([red, green, blue, ndvi], axis=0)  # [4, H, W]\n",
    "        tensor = torch.tensor(stacked, dtype=torch.float32)\n",
    "        tensor = F.interpolate(tensor.unsqueeze(0), size=(64, 64), mode='bilinear', align_corners=False).squeeze(0)\n",
    "\n",
    "        return tensor, torch.tensor(label, dtype=torch.float32)\n",
    "\n",
    "#  MODEL\n",
    "class SimpleCNN(nn.Module):\n",
    "    def __init__(self, in_channels=4):\n",
    "        super(SimpleCNN, self).__init__()\n",
    "        self.conv1 = nn.Conv2d(in_channels, 32, kernel_size=3, padding=1)\n",
    "        self.conv2 = nn.Conv2d(32, 64, kernel_size=3, padding=1)\n",
    "        self.pool = nn.MaxPool2d(2, 2)\n",
    "        self.fc1 = nn.Linear(64 * 16 * 16, 128)  # assuming 64x64 patches\n",
    "        self.fc2 = nn.Linear(128, 1)\n",
    "\n",
    "    def forward(self, x):\n",
    "        x = self.pool(F.relu(self.conv1(x)))  # [B, 32, 32, 32]\n",
    "        x = self.pool(F.relu(self.conv2(x)))  # [B, 64, 16, 16]\n",
    "        x = x.view(x.size(0), -1)             # flatten\n",
    "        x = F.relu(self.fc1(x))\n",
    "        return torch.sigmoid(self.fc2(x))\n",
    "\n",
    "#  TRAINING SETUP\n",
    "def train_model(dataset_path, num_epochs=10, batch_size=32):\n",
    "    dataset = BigEarthNetVegetationDataset(dataset_path)\n",
    "   # dataset = VegetationDataset(dataset_path)\n",
    "    train_size = int(0.8 * len(dataset))\n",
    "    val_size = len(dataset) - train_size\n",
    "    train_ds, val_ds = random_split(dataset, [train_size, val_size])\n",
    "\n",
    "    train_loader = DataLoader(train_ds, batch_size=batch_size, shuffle=True)\n",
    "    val_loader = DataLoader(val_ds, batch_size=batch_size)\n",
    "\n",
    "    model = SimpleCNN(in_channels=4)\n",
    "    device = torch.device('cuda' if torch.cuda.is_available() else 'cpu')\n",
    "    model = model.to(device)\n",
    "\n",
    "    criterion = nn.BCELoss()\n",
    "    optimizer = torch.optim.Adam(model.parameters(), lr=1e-3)\n",
    "    loss_history = []\n",
    "\n",
    "    for epoch in range(num_epochs):\n",
    "        model.train()\n",
    "        total_loss = 0\n",
    "        progress = tqdm(train_loader, desc=f\"Epoch {epoch+1}/{num_epochs}\", unit=\"batch\")\n",
    "        for images, labels in progress:\n",
    "            images = images.to(device)\n",
    "            labels = labels.to(device).unsqueeze(1)\n",
    "\n",
    "            optimizer.zero_grad()\n",
    "            outputs = model(images)\n",
    "            loss = criterion(outputs, labels)\n",
    "            loss.backward()\n",
    "            optimizer.step()\n",
    "\n",
    "            total_loss += loss.item()\n",
    "            progress.set_postfix(loss=loss.item())\n",
    "        avg_loss = total_loss / len(train_loader)\n",
    "        print(f\"Epoch {epoch+1}/{num_epochs}, Avg Loss: {total_loss/len(train_loader):.4f}\")\n",
    "        loss_history.append(avg_loss)\n",
    "\n",
    "    return model, loss_history\n",
    "\n",
    "\n",
    "\n",
    "#  EVALUATION FUNCTION\n",
    "def evaluate_model(model, val_loader):\n",
    "    model.eval()\n",
    "    device = next(model.parameters()).device\n",
    "    correct = 0\n",
    "    total = 0\n",
    "    with torch.no_grad():\n",
    "        for images, labels in val_loader:\n",
    "            images = images.to(device)\n",
    "            labels = labels.to(device)\n",
    "            outputs = model(images).squeeze() > 0.5\n",
    "            correct += (outputs == labels).sum().item()\n",
    "            total += labels.size(0)\n",
    "    print(f\"Validation Accuracy: {correct / total:.2%}\")\n",
    "\n",
    "from PIL import Image\n",
    "\n",
    "def predict(model, image_path):\n",
    "    # Detect file type\n",
    "    if image_path.endswith('.npy'):\n",
    "        array = np.load(image_path)  # shape: [H, W, 15]\n",
    "        red = array[:, :, 3] / 10000.0\n",
    "        green = array[:, :, 2] / 10000.0\n",
    "        blue = array[:, :, 1] / 10000.0\n",
    "        ndvi = array[:, :, 13]\n",
    "\n",
    "        # Stack to [4, H, W]\n",
    "        stacked = np.stack([red, green, blue, ndvi], axis=0)\n",
    "    elif image_path.endswith('.png') or image_path.endswith('.jpg'):\n",
    "        img = Image.open(image_path).convert('RGB')\n",
    "        img = img.resize((64, 64))  # Resize for consistency\n",
    "        img = np.array(img).astype(np.float32) / 255.0\n",
    "\n",
    "        red = img[:, :, 0]\n",
    "        green = img[:, :, 1]\n",
    "        blue = img[:, :, 2]\n",
    "        ndvi = np.zeros_like(red)\n",
    "\n",
    "        # Stack to [4, 64, 64]\n",
    "        stacked = np.stack([red, green, blue, ndvi], axis=0)\n",
    "\n",
    "    elif image_path.endswith('.tif') or image_path.endswith('.tiff'):\n",
    "        import rasterio\n",
    "        with rasterio.open(image_path) as src:\n",
    "        # Read bands using Sentinel-2 standard band numbers:\n",
    "        # Band 4 = red (index 4)\n",
    "        # Band 3 = green (index 3)\n",
    "        # Band 2 = blue (index 2)\n",
    "        # Band 8 = NIR (index 8)\n",
    "         red = src.read(4).astype(np.float32) / 10000.0\n",
    "         green = src.read(3).astype(np.float32) / 10000.0\n",
    "         blue = src.read(2).astype(np.float32) / 10000.0\n",
    "         nir = src.read(8).astype(np.float32) / 10000.0\n",
    "\n",
    "        # Compute NDVI\n",
    "         ndvi = (nir - red) / (nir + red + 1e-5)\n",
    "\n",
    "        # Stack to [4, H, W]\n",
    "         stacked = np.stack([red, green, blue, ndvi], axis=0)\n",
    "    else:\n",
    "        raise ValueError(\"Unsupported file format. Use .npy or .png/.jpg\")\n",
    "\n",
    "    # Resize if needed (for .npy)\n",
    "    if stacked.shape[1:] != (64, 64):\n",
    "        tensor = torch.tensor(stacked, dtype=torch.float32).unsqueeze(0)  # [1, 4, H, W]\n",
    "        tensor = F.interpolate(tensor, size=(64, 64), mode='bilinear', align_corners=False)\n",
    "    else:\n",
    "        tensor = torch.tensor(stacked, dtype=torch.float32).unsqueeze(0)\n",
    "\n",
    "    # Predict\n",
    "    model.eval()\n",
    "    device = next(model.parameters()).device\n",
    "    with torch.no_grad():\n",
    "        prob = model(tensor.to(device)).item()\n",
    "        label = \"VEGETATION\" if prob > 0.5 else \"NO_VEGETATION\"\n",
    "   \n",
    "   # visualize = true \n",
    "    import matplotlib.pyplot as plt\n",
    "\n",
    "    rgb_vis = np.stack([red, green, blue], axis=-1)\n",
    "    rgb_vis = np.clip(rgb_vis, 0, 1)\n",
    "    plt.figure(figsize=(4, 4))\n",
    "    plt.imshow(rgb_vis)\n",
    "    plt.title(f\"Prediction: {label}\", fontsize=14, color='green' if label == \"VEGETATION\" else 'red')\n",
    "    plt.axis('off')\n",
    "    plt.show()\n",
    "  "
   ]
  },
  {
   "cell_type": "code",
   "execution_count": 50,
   "id": "f63ef880",
   "metadata": {},
   "outputs": [
    {
     "name": "stdout",
     "output_type": "stream",
     "text": [
      "Loaded 2000 samples\n"
     ]
    },
    {
     "data": {
      "text/plain": [
       "'\\nprint(\"Example labels:\")\\nfor i in range(min(110, len(dataset.samples))):\\n    print(dataset.samples[i][1])\\n'"
      ]
     },
     "execution_count": 50,
     "metadata": {},
     "output_type": "execute_result"
    }
   ],
   "source": [
    "dataset_path = r'C:\\Users\\mayer\\Работен плот\\final forest detector\\Big Earth Net Dataset\\BigEarthNet-S2'\n",
    "dataset = BigEarthNetVegetationDataset(dataset_path)\n",
    "print(f\"Loaded {len(dataset)} samples\")\n",
    "\n",
    "\n",
    "\n",
    "'''\n",
    "print(\"Example labels:\")\n",
    "for i in range(min(110, len(dataset.samples))):\n",
    "    print(dataset.samples[i][1])\n",
    "'''\n"
   ]
  },
  {
   "cell_type": "code",
   "execution_count": 57,
   "id": "d4ea5e56",
   "metadata": {},
   "outputs": [
    {
     "name": "stdout",
     "output_type": "stream",
     "text": [
      "Image shape: (4, 120, 120)\n"
     ]
    }
   ],
   "source": [
    "import rasterio\n",
    "import numpy as np\n",
    "import os\n",
    "\n",
    "patch_path = r\"C:\\Users\\mayer\\Работен плот\\final forest detector\\Big Earth Net Dataset\\BigEarthNet-S2\\S2A_MSIL2A_20170613T101031_N9999_R022_T33UUP\\S2A_MSIL2A_20170613T101031_N9999_R022_T33UUP_26_57\"\n",
    "\n",
    "bands = ['B04', 'B03', 'B02', 'B08']  # Red, Green, Blue, NIR\n",
    "images = []\n",
    "\n",
    "for band in bands:\n",
    "    file_path = os.path.join(patch_path, os.path.basename(patch_path) + f'_{band}.tif')\n",
    "    with rasterio.open(file_path) as src:\n",
    "        img = src.read(1).astype(np.float32) / 10000.0\n",
    "        images.append(img)\n",
    "\n",
    "red, green, blue, nir = images\n",
    "ndvi = (nir - red) / (nir + red + 1e-6)\n",
    "\n",
    "stacked = np.stack([red, green, blue, ndvi])\n",
    "print(f\"Image shape: {stacked.shape}\")"
   ]
  },
  {
   "cell_type": "code",
   "execution_count": null,
   "id": "fc4ae389",
   "metadata": {},
   "outputs": [
    {
     "name": "stdout",
     "output_type": "stream",
     "text": [
      "Example labels:\n"
     ]
    },
    {
     "ename": "NameError",
     "evalue": "name 'self' is not defined",
     "output_type": "error",
     "traceback": [
      "\u001b[31m---------------------------------------------------------------------------\u001b[39m",
      "\u001b[31mNameError\u001b[39m                                 Traceback (most recent call last)",
      "\u001b[36mCell\u001b[39m\u001b[36m \u001b[39m\u001b[32mIn[18]\u001b[39m\u001b[32m, line 3\u001b[39m\n\u001b[32m      1\u001b[39m \u001b[38;5;28mprint\u001b[39m(\u001b[33m\"\u001b[39m\u001b[33mExample labels:\u001b[39m\u001b[33m\"\u001b[39m)\n\u001b[32m      2\u001b[39m \u001b[38;5;28;01mfor\u001b[39;00m i \u001b[38;5;129;01min\u001b[39;00m \u001b[38;5;28mrange\u001b[39m(\u001b[32m5\u001b[39m):\n\u001b[32m----> \u001b[39m\u001b[32m3\u001b[39m     \u001b[38;5;28mprint\u001b[39m(\u001b[38;5;28;43mself\u001b[39;49m.samples[i][\u001b[32m1\u001b[39m]) \n",
      "\u001b[31mNameError\u001b[39m: name 'self' is not defined"
     ]
    }
   ],
   "source": []
  },
  {
   "cell_type": "code",
   "execution_count": 92,
   "id": "6377b500",
   "metadata": {},
   "outputs": [
    {
     "name": "stderr",
     "output_type": "stream",
     "text": [
      "Epoch 1/15: 100%|██████████| 750/750 [02:39<00:00,  4.71batch/s, loss=0.319]\n"
     ]
    },
    {
     "name": "stdout",
     "output_type": "stream",
     "text": [
      "Epoch 1/15, Avg Loss: 0.4225\n"
     ]
    },
    {
     "name": "stderr",
     "output_type": "stream",
     "text": [
      "Epoch 2/15: 100%|██████████| 750/750 [01:17<00:00,  9.67batch/s, loss=0.225]\n"
     ]
    },
    {
     "name": "stdout",
     "output_type": "stream",
     "text": [
      "Epoch 2/15, Avg Loss: 0.3564\n"
     ]
    },
    {
     "name": "stderr",
     "output_type": "stream",
     "text": [
      "Epoch 3/15: 100%|██████████| 750/750 [01:13<00:00, 10.19batch/s, loss=0.275] \n"
     ]
    },
    {
     "name": "stdout",
     "output_type": "stream",
     "text": [
      "Epoch 3/15, Avg Loss: 0.3309\n"
     ]
    },
    {
     "name": "stderr",
     "output_type": "stream",
     "text": [
      "Epoch 4/15: 100%|██████████| 750/750 [01:20<00:00,  9.27batch/s, loss=0.322] \n"
     ]
    },
    {
     "name": "stdout",
     "output_type": "stream",
     "text": [
      "Epoch 4/15, Avg Loss: 0.3118\n"
     ]
    },
    {
     "name": "stderr",
     "output_type": "stream",
     "text": [
      "Epoch 5/15: 100%|██████████| 750/750 [03:53<00:00,  3.21batch/s, loss=0.147]  \n"
     ]
    },
    {
     "name": "stdout",
     "output_type": "stream",
     "text": [
      "Epoch 5/15, Avg Loss: 0.2939\n"
     ]
    },
    {
     "name": "stderr",
     "output_type": "stream",
     "text": [
      "Epoch 6/15: 100%|██████████| 750/750 [01:14<00:00, 10.09batch/s, loss=0.484]\n"
     ]
    },
    {
     "name": "stdout",
     "output_type": "stream",
     "text": [
      "Epoch 6/15, Avg Loss: 0.2820\n"
     ]
    },
    {
     "name": "stderr",
     "output_type": "stream",
     "text": [
      "Epoch 7/15: 100%|██████████| 750/750 [01:16<00:00,  9.78batch/s, loss=0.243] \n"
     ]
    },
    {
     "name": "stdout",
     "output_type": "stream",
     "text": [
      "Epoch 7/15, Avg Loss: 0.2568\n"
     ]
    },
    {
     "name": "stderr",
     "output_type": "stream",
     "text": [
      "Epoch 8/15: 100%|██████████| 750/750 [01:20<00:00,  9.34batch/s, loss=0.495] \n"
     ]
    },
    {
     "name": "stdout",
     "output_type": "stream",
     "text": [
      "Epoch 8/15, Avg Loss: 0.2369\n"
     ]
    },
    {
     "name": "stderr",
     "output_type": "stream",
     "text": [
      "Epoch 9/15: 100%|██████████| 750/750 [01:25<00:00,  8.75batch/s, loss=0.0762]\n"
     ]
    },
    {
     "name": "stdout",
     "output_type": "stream",
     "text": [
      "Epoch 9/15, Avg Loss: 0.2095\n"
     ]
    },
    {
     "name": "stderr",
     "output_type": "stream",
     "text": [
      "Epoch 10/15: 100%|██████████| 750/750 [01:19<00:00,  9.48batch/s, loss=0.251] \n"
     ]
    },
    {
     "name": "stdout",
     "output_type": "stream",
     "text": [
      "Epoch 10/15, Avg Loss: 0.1835\n"
     ]
    },
    {
     "name": "stderr",
     "output_type": "stream",
     "text": [
      "Epoch 11/15: 100%|██████████| 750/750 [01:15<00:00,  9.90batch/s, loss=0.0484]\n"
     ]
    },
    {
     "name": "stdout",
     "output_type": "stream",
     "text": [
      "Epoch 11/15, Avg Loss: 0.1503\n"
     ]
    },
    {
     "name": "stderr",
     "output_type": "stream",
     "text": [
      "Epoch 12/15: 100%|██████████| 750/750 [01:19<00:00,  9.43batch/s, loss=0.0802]\n"
     ]
    },
    {
     "name": "stdout",
     "output_type": "stream",
     "text": [
      "Epoch 12/15, Avg Loss: 0.1295\n"
     ]
    },
    {
     "name": "stderr",
     "output_type": "stream",
     "text": [
      "Epoch 13/15: 100%|██████████| 750/750 [04:13<00:00,  2.96batch/s, loss=0.13]    \n"
     ]
    },
    {
     "name": "stdout",
     "output_type": "stream",
     "text": [
      "Epoch 13/15, Avg Loss: 0.1119\n"
     ]
    },
    {
     "name": "stderr",
     "output_type": "stream",
     "text": [
      "Epoch 14/15: 100%|██████████| 750/750 [01:13<00:00, 10.21batch/s, loss=0.0761] \n"
     ]
    },
    {
     "name": "stdout",
     "output_type": "stream",
     "text": [
      "Epoch 14/15, Avg Loss: 0.0914\n"
     ]
    },
    {
     "name": "stderr",
     "output_type": "stream",
     "text": [
      "Epoch 15/15: 100%|██████████| 750/750 [01:17<00:00,  9.69batch/s, loss=0.0937] \n"
     ]
    },
    {
     "name": "stdout",
     "output_type": "stream",
     "text": [
      "Epoch 15/15, Avg Loss: 0.0683\n"
     ]
    },
    {
     "data": {
      "image/png": "[encoded data removed]",
      "text/plain": [
       "<Figure size 640x480 with 1 Axes>"
      ]
     },
     "metadata": {},
     "output_type": "display_data"
    },
    {
     "name": "stdout",
     "output_type": "stream",
     "text": [
      "Total dataset size: 30000\n",
      "Validation set size: 6000\n",
      "Accuracy: 51.57%\n"
     ]
    },
    {
     "data": {
      "text/plain": [
       "0.5156666666666667"
      ]
     },
     "execution_count": 92,
     "metadata": {},
     "output_type": "execute_result"
    }
   ],
   "source": [
    "import zipfile\n",
    "import os\n",
    "import matplotlib.pyplot as plt\n",
    "\n",
    "# Local path to the ZIP file\n",
    "#zip_path = r\"C:\\Users\\mayer\\Работен плот\\final forest detector\\Big Earth Net Dataset\\BigEarthNet-S2\\S2A_MSIL2A_20170613T101031_N9999_R022_T33UUP\"\n",
    "\n",
    "# Folder where the data will be extracted\n",
    "#extracted_path = r\"C:\\Users\\mayer\\Работен плот\\final forest detector\\Big Earth Net Dataset\\BigEarthNet-S2\\S2A_MSIL2A_20170613T101031_N9999_R022_T33UUP\"\n",
    "\n",
    "# Only extract if not already extracted\n",
    "'''\n",
    "if not os.path.exists(extracted_path):\n",
    "    with zipfile.ZipFile(zip_path, 'r') as zip_ref:\n",
    "        zip_ref.extractall(extracted_path)\n",
    "\n",
    "'''\n",
    "from torch.utils.data import random_split\n",
    "dataset_path=r\"C:\\Users\\mayer\\Работен плот\\final forest detector\\Big Earth Net Dataset\\BigEarthNet-S2\"\n",
    "dataset = BigEarthNetVegetationDataset(dataset_path)\n",
    "#dataset = VegetationDataset(dataset_path)\n",
    "train_size = int(0.8 * len(dataset))\n",
    "val_size = len(dataset) - train_size\n",
    "train_dataset, val_dataset = random_split(dataset, [train_size, val_size])\n",
    "\n",
    "def evaluate_model(model, dataloader):\n",
    "    model.eval()\n",
    "    correct = 0\n",
    "    total = 0\n",
    "\n",
    "    with torch.no_grad():\n",
    "        for images, labels in dataloader:\n",
    "            outputs = model(images)\n",
    "            preds = torch.round(torch.sigmoid(outputs)).squeeze()\n",
    "            correct += (preds == labels).sum().item()\n",
    "            total += labels.size(0)\n",
    "\n",
    "    accuracy = correct / total\n",
    "    print(f\"Accuracy: {accuracy * 100:.2f}%\")  # Shows 0-100%\n",
    "    return accuracy\n",
    "# Train the model using the extracted folder\n",
    "model, loss_history = train_model(dataset_path=r\"C:\\Users\\mayer\\Работен плот\\final forest detector\\Big Earth Net Dataset\\BigEarthNet-S2\", num_epochs=15, batch_size=32)\n",
    "\n",
    "plt.plot(range(1, len(loss_history)+1), loss_history)\n",
    "plt.xlabel(\"Epoch\")\n",
    "plt.ylabel(\"Avg Training Loss\")\n",
    "plt.title(\"Loss vs. Epoch\")\n",
    "plt.show()\n",
    "\n",
    "\n",
    "from torch.utils.data import DataLoader\n",
    "\n",
    "val_loader = DataLoader(val_dataset, batch_size=32, shuffle=False)\n",
    "print(f\"Total dataset size: {len(dataset)}\")\n",
    "print(f\"Validation set size: {len(val_dataset)}\")\n",
    "# After model has finished training\n",
    "evaluate_model(model, val_loader)"
   ]
  },
  {
   "cell_type": "code",
   "execution_count": 80,
   "id": "c1384a75",
   "metadata": {},
   "outputs": [
    {
     "data": {
      "image/png": "[encoded data removed]",
      "text/plain": [
       "<Figure size 400x400 with 1 Axes>"
      ]
     },
     "metadata": {},
     "output_type": "display_data"
    },
    {
     "name": "stdout",
     "output_type": "stream",
     "text": [
      "None\n"
     ]
    }
   ],
   "source": [
    "\n",
    "import zipfile\n",
    "import os\n",
    "\n",
    "\n",
    "testFile_path = r\"C:\\Users\\mayer\\Работен плот\\final forest detector\\photos from DIego previous project\\PermanentCrop_1.tif\" # Get the uploaded filename\n",
    "result = predict(model, testFile_path)\n",
    "print(result)"
   ]
  }
 ],
 "metadata": {
  "kernelspec": {
   "display_name": "Python 3",
   "language": "python",
   "name": "python3"
  },
  "language_info": {
   "codemirror_mode": {
    "name": "ipython",
    "version": 3
   },
   "file_extension": ".py",
   "mimetype": "text/x-python",
   "name": "python",
   "nbconvert_exporter": "python",
   "pygments_lexer": "ipython3",
   "version": "3.13.5"
  }
 },
 "nbformat": 4,
 "nbformat_minor": 5
}
