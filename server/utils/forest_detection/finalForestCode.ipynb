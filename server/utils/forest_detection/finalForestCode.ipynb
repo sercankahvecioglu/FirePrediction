{
 "cells": [
  {
   "cell_type": "code",
   "execution_count": 1,
   "id": "bb7ca75c",
   "metadata": {},
   "outputs": [],
   "source": [
    "import pyarrow.parquet as pq\n",
    "import pandas as pd\n",
    "\n",
    "metadata_path = r\"C:\\Users\\mayer\\Работен плот\\final forest detector\\metadata.parquet\"\n",
    "\n",
    "# # table = pq.read_table(metadata_path)\n",
    "# # df = table.to_pandas()\n",
    "# print(\"Available columns in metadata:\", df.columns.tolist())\n",
    "\n",
    "#print(df.head())\n",
    "#print(df.columns)"
   ]
  },
  {
   "cell_type": "code",
   "execution_count": 23,
   "id": "91a3d204",
   "metadata": {},
   "outputs": [
    {
     "name": "stdout",
     "output_type": "stream",
     "text": [
      "Requirement already satisfied: torch in c:\\users\\mayer\\anaconda3\\lib\\site-packages (2.7.1)\n",
      "Requirement already satisfied: torchvision in c:\\users\\mayer\\anaconda3\\lib\\site-packages (0.22.1)\n",
      "Requirement already satisfied: filelock in c:\\users\\mayer\\anaconda3\\lib\\site-packages (from torch) (3.17.0)\n",
      "Requirement already satisfied: typing-extensions>=4.10.0 in c:\\users\\mayer\\anaconda3\\lib\\site-packages (from torch) (4.12.2)\n",
      "Requirement already satisfied: sympy>=1.13.3 in c:\\users\\mayer\\anaconda3\\lib\\site-packages (from torch) (1.13.3)\n",
      "Requirement already satisfied: networkx in c:\\users\\mayer\\anaconda3\\lib\\site-packages (from torch) (3.4.2)\n",
      "Requirement already satisfied: jinja2 in c:\\users\\mayer\\anaconda3\\lib\\site-packages (from torch) (3.1.6)\n",
      "Requirement already satisfied: fsspec in c:\\users\\mayer\\anaconda3\\lib\\site-packages (from torch) (2025.3.2)\n",
      "Requirement already satisfied: setuptools in c:\\users\\mayer\\anaconda3\\lib\\site-packages (from torch) (72.1.0)\n",
      "Requirement already satisfied: numpy in c:\\users\\mayer\\anaconda3\\lib\\site-packages (from torchvision) (2.1.3)\n",
      "Requirement already satisfied: pillow!=8.3.*,>=5.3.0 in c:\\users\\mayer\\anaconda3\\lib\\site-packages (from torchvision) (11.1.0)\n",
      "Requirement already satisfied: mpmath<1.4,>=1.1.0 in c:\\users\\mayer\\anaconda3\\lib\\site-packages (from sympy>=1.13.3->torch) (1.3.0)\n",
      "Requirement already satisfied: MarkupSafe>=2.0 in c:\\users\\mayer\\anaconda3\\lib\\site-packages (from jinja2->torch) (3.0.2)\n",
      "Requirement already satisfied: tqdm in c:\\users\\mayer\\appdata\\local\\programs\\python\\python313\\lib\\site-packages (4.67.1)\n",
      "Requirement already satisfied: colorama in c:\\users\\mayer\\appdata\\roaming\\python\\python313\\site-packages (from tqdm) (0.4.6)\n",
      "Note: you may need to restart the kernel to use updated packages.\n"
     ]
    },
    {
     "name": "stderr",
     "output_type": "stream",
     "text": [
      "\n",
      "[notice] A new release of pip is available: 25.1.1 -> 25.2\n",
      "[notice] To update, run: python.exe -m pip install --upgrade pip\n"
     ]
    },
    {
     "name": "stdout",
     "output_type": "stream",
     "text": [
      "Requirement already satisfied: pandas in c:\\users\\mayer\\appdata\\local\\programs\\python\\python313\\lib\\site-packages (2.3.1)\n",
      "Requirement already satisfied: numpy>=1.26.0 in c:\\users\\mayer\\appdata\\local\\programs\\python\\python313\\lib\\site-packages (from pandas) (2.3.1)\n",
      "Requirement already satisfied: python-dateutil>=2.8.2 in c:\\users\\mayer\\appdata\\roaming\\python\\python313\\site-packages (from pandas) (2.9.0.post0)\n",
      "Requirement already satisfied: pytz>=2020.1 in c:\\users\\mayer\\appdata\\local\\programs\\python\\python313\\lib\\site-packages (from pandas) (2025.2)\n",
      "Requirement already satisfied: tzdata>=2022.7 in c:\\users\\mayer\\appdata\\local\\programs\\python\\python313\\lib\\site-packages (from pandas) (2025.2)\n",
      "Requirement already satisfied: six>=1.5 in c:\\users\\mayer\\appdata\\roaming\\python\\python313\\site-packages (from python-dateutil>=2.8.2->pandas) (1.17.0)\n",
      "Note: you may need to restart the kernel to use updated packages.\n"
     ]
    },
    {
     "name": "stderr",
     "output_type": "stream",
     "text": [
      "\n",
      "[notice] A new release of pip is available: 25.1.1 -> 25.2\n",
      "[notice] To update, run: python.exe -m pip install --upgrade pip\n"
     ]
    },
    {
     "name": "stdout",
     "output_type": "stream",
     "text": [
      "Requirement already satisfied: pyarrow in c:\\users\\mayer\\appdata\\local\\programs\\python\\python313\\lib\\site-packages (21.0.0)\n",
      "Note: you may need to restart the kernel to use updated packages.\n"
     ]
    },
    {
     "name": "stderr",
     "output_type": "stream",
     "text": [
      "\n",
      "[notice] A new release of pip is available: 25.1.1 -> 25.2\n",
      "[notice] To update, run: python.exe -m pip install --upgrade pip\n",
      "\n",
      "[notice] A new release of pip is available: 25.1.1 -> 25.2\n",
      "[notice] To update, run: python.exe -m pip install --upgrade pip\n"
     ]
    },
    {
     "name": "stdout",
     "output_type": "stream",
     "text": [
      "Requirement already satisfied: fastparquet in c:\\users\\mayer\\appdata\\local\\programs\\python\\python313\\lib\\site-packages (2024.11.0)\n",
      "Requirement already satisfied: pandas>=1.5.0 in c:\\users\\mayer\\appdata\\local\\programs\\python\\python313\\lib\\site-packages (from fastparquet) (2.3.1)\n",
      "Requirement already satisfied: numpy in c:\\users\\mayer\\appdata\\local\\programs\\python\\python313\\lib\\site-packages (from fastparquet) (2.3.1)\n",
      "Requirement already satisfied: cramjam>=2.3 in c:\\users\\mayer\\appdata\\local\\programs\\python\\python313\\lib\\site-packages (from fastparquet) (2.11.0)\n",
      "Requirement already satisfied: fsspec in c:\\users\\mayer\\appdata\\local\\programs\\python\\python313\\lib\\site-packages (from fastparquet) (2025.7.0)\n",
      "Requirement already satisfied: packaging in c:\\users\\mayer\\appdata\\roaming\\python\\python313\\site-packages (from fastparquet) (25.0)\n",
      "Requirement already satisfied: python-dateutil>=2.8.2 in c:\\users\\mayer\\appdata\\roaming\\python\\python313\\site-packages (from pandas>=1.5.0->fastparquet) (2.9.0.post0)\n",
      "Requirement already satisfied: pytz>=2020.1 in c:\\users\\mayer\\appdata\\local\\programs\\python\\python313\\lib\\site-packages (from pandas>=1.5.0->fastparquet) (2025.2)\n",
      "Requirement already satisfied: tzdata>=2022.7 in c:\\users\\mayer\\appdata\\local\\programs\\python\\python313\\lib\\site-packages (from pandas>=1.5.0->fastparquet) (2025.2)\n",
      "Requirement already satisfied: six>=1.5 in c:\\users\\mayer\\appdata\\roaming\\python\\python313\\site-packages (from python-dateutil>=2.8.2->pandas>=1.5.0->fastparquet) (1.17.0)\n",
      "Note: you may need to restart the kernel to use updated packages.\n"
     ]
    }
   ],
   "source": [
    "# INSTALL DEPENDENCIES (Colab only)\n",
    "!pip install torch torchvision\n",
    "\n",
    "# IMPORTS\n",
    "import os\n",
    "import numpy as np\n",
    "import torch\n",
    "import torch.nn as nn\n",
    "import torch.nn.functional as F\n",
    "from torch.utils.data import Dataset, DataLoader, random_split\n",
    "from torchvision import transforms\n",
    "import rasterio \n",
    "# CUSTOM DATASET\n",
    "import rasterio\n",
    "import json\n",
    "\n",
    "%pip install tqdm\n",
    "from tqdm import tqdm\n",
    "#loads the data from the BigEarthNet dataset, which is the strangly configurated one \n",
    "%pip install pandas \n",
    "import pandas as pd\n",
    "\n",
    "%pip install pyarrow\n",
    "import pyarrow\n",
    "\n",
    "%pip install fastparquet\n",
    "import fastparquet\n",
    "metadata_path = r\"C:\\Users\\mayer\\Работен плот\\final forest detector\\metadata.parquet\"\n",
    "\n",
    "import pyarrow as pa\n",
    "import pyarrow.parquet as pq\n",
    "\n",
    "table = pq.read_table(metadata_path)\n",
    "df = table.to_pandas()\n",
    "\n",
    "class BigEarthNetVegetationDataset(Dataset):\n",
    "    def __init__(self, root_dir, transform=None, metadata_file=\"metadata.parquet\", filter_cloud=True):\n",
    "        self.root_dir = root_dir\n",
    "        self.samples = []\n",
    "        self.transform = transform\n",
    "\n",
    "        # Load metadata\n",
    "        #metadata_path = os.path.join(root_dir, metadata_file)\n",
    "        metadata_path = r\"C:\\Users\\mayer\\Работен плот\\final forest detector\\metadata.parquet\"\n",
    "        import pyarrow.parquet as pq\n",
    "        table = pq.read_table(metadata_path)\n",
    "        df = table.to_pandas()\n",
    "\n",
    "        # Optional: remove patches with clouds/snow\n",
    "        if filter_cloud:\n",
    "            if \"contains_cloud_or_shadow\" in df.columns:\n",
    "                df = df[df[\"contains_cloud_or_shadow\"] == False]\n",
    "            if \"contains_seasonal_snow\" in df.columns:\n",
    "                df = df[df[\"contains_seasonal_snow\"] == False]\n",
    "\n",
    "        # Forest label set\n",
    "        self.forest_labels = set(['Agro-forestry areas',\n",
    "         'Broad-leaved forest', \n",
    "          'Coniferous forest',\n",
    "           'Mixed forest',  'Transitional woodland, shrub'])\n",
    "        # Add binary label column\n",
    "        df[\"binary_label\"] = df[\"labels\"].apply(lambda labels: 1.0 if set(labels) & self.forest_labels else 0.0)\n",
    "\n",
    "        # Select n- number of samples with forest and n-number without\n",
    "        forest_df = df[df[\"binary_label\"] == 1.0].sample(n=7500,random_state=42)\n",
    "        non_forest_df = df[df[\"binary_label\"] == 0.0].sample(n=7500, random_state=42)\n",
    "        df = pd.concat([forest_df, non_forest_df]).reset_index(drop=True)\n",
    "\n",
    "\n",
    "        for _, row in df.iterrows():\n",
    "            patch_id = row[\"patch_id\"]\n",
    "            labels = set(row[\"labels\"])\n",
    "\n",
    "            # Map to binary: forest vs. no forest\n",
    "            binary_label = 1.0 if labels & self.forest_labels else 0.0\n",
    "\n",
    "            # Locate patch folder inside the root folder\n",
    "            found = False\n",
    "            for tile_folder in os.listdir(root_dir):\n",
    "                tile_path = os.path.join(root_dir, tile_folder)\n",
    "                patch_path = os.path.join(tile_path, patch_id)\n",
    "                if os.path.isdir(patch_path):\n",
    "                    found = True\n",
    "                    break\n",
    "\n",
    "            if not found:\n",
    "                continue  # Skip if folder not found\n",
    "\n",
    "            try:\n",
    "                # Load Sentinel-2 bands\n",
    "                blue = rasterio.open(os.path.join(patch_path, patch_id + \"_B02.tif\")).read(1).astype(np.float32) / 10000.0\n",
    "                green = rasterio.open(os.path.join(patch_path, patch_id + \"_B03.tif\")).read(1).astype(np.float32) / 10000.0\n",
    "                red = rasterio.open(os.path.join(patch_path, patch_id + \"_B04.tif\")).read(1).astype(np.float32) / 10000.0\n",
    "                nir = rasterio.open(os.path.join(patch_path, patch_id + \"_B08.tif\")).read(1).astype(np.float32) / 10000.0\n",
    "\n",
    "                # Compute NDVI\n",
    "                ndvi = (nir - red) / (nir + red + 1e-5)\n",
    "\n",
    "                # Stack channels: [4, H, W]\n",
    "                stacked = np.stack([red, green, blue, ndvi], axis=0)\n",
    "\n",
    "                self.samples.append((stacked, binary_label))\n",
    "\n",
    "            except Exception as e:\n",
    "                print(f\"Skipping {patch_id} due to error: {e}\")\n",
    "\n",
    "    def __len__(self):\n",
    "        return len(self.samples)\n",
    "\n",
    "    def __getitem__(self, idx):\n",
    "        image, label = self.samples[idx]\n",
    "        tensor = torch.tensor(image, dtype=torch.float32)\n",
    "        tensor = F.interpolate(tensor.unsqueeze(0), size=(64, 64), mode='bilinear', align_corners=False).squeeze(0)\n",
    "        return tensor, torch.tensor(label, dtype=torch.float32)\n",
    "\n",
    "\n",
    "\n",
    "class VegetationDataset(Dataset):\n",
    "    def __init__(self, root_dir):\n",
    "        self.root_dir = root_dir\n",
    "        self.samples = []\n",
    "\n",
    "        for label, subfolder in enumerate(['NO_VEGETATION', 'VEGETATION']):\n",
    "            folder = os.path.join(root_dir, subfolder)\n",
    "            for file in os.listdir(folder):\n",
    "                if file.endswith(('.npy', '.tif', '.tiff')):\n",
    "                    self.samples.append((os.path.join(folder, file), label))\n",
    "\n",
    "    def __len__(self):\n",
    "        return len(self.samples)\n",
    "\n",
    "    def __getitem__(self, idx):\n",
    "        path, label = self.samples[idx]\n",
    "\n",
    "        if path.endswith('.npy'):\n",
    "            array = np.load(path)  # shape: [H, W, 15]\n",
    "            red = array[:, :, 3] / 10000.0\n",
    "            green = array[:, :, 2] / 10000.0\n",
    "            blue = array[:, :, 1] / 10000.0\n",
    "            ndvi = array[:, :, 13]\n",
    "        elif path.endswith(('.tif', '.tiff')):\n",
    "            with rasterio.open(path) as src:\n",
    "                try:\n",
    "                    red = src.read(4).astype(np.float32) / 10000.0\n",
    "                    green = src.read(3).astype(np.float32) / 10000.0\n",
    "                    blue = src.read(2).astype(np.float32) / 10000.0\n",
    "                    nir = src.read(8).astype(np.float32) / 10000.0\n",
    "                except IndexError:\n",
    "                    raise ValueError(f\"{os.path.basename(path)} doesn't contain required bands 2, 3, 4, and 8\")\n",
    "                ndvi = (nir - red) / (nir + red + 1e-5)\n",
    "        else:\n",
    "            raise ValueError(f\"Unsupported file format: {path}\")\n",
    "\n",
    "        # Stack and resize\n",
    "        stacked = np.stack([red, green, blue, ndvi], axis=0)  # [4, H, W]\n",
    "        tensor = torch.tensor(stacked, dtype=torch.float32)\n",
    "        tensor = F.interpolate(tensor.unsqueeze(0), size=(64, 64), mode='bilinear', align_corners=False).squeeze(0)\n",
    "\n",
    "        return tensor, torch.tensor(label, dtype=torch.float32)\n",
    "\n",
    "#  MODEL\n",
    "class SimpleCNN(nn.Module):\n",
    "    def __init__(self, in_channels=4):\n",
    "        super(SimpleCNN, self).__init__()\n",
    "        self.conv1 = nn.Conv2d(in_channels, 32, kernel_size=3, padding=1)\n",
    "        self.conv2 = nn.Conv2d(32, 64, kernel_size=3, padding=1)\n",
    "        self.pool = nn.MaxPool2d(2, 2)\n",
    "        self.fc1 = nn.Linear(64 * 16 * 16, 128)  # assuming 64x64 patches\n",
    "        self.fc2 = nn.Linear(128, 1)\n",
    "\n",
    "    def forward(self, x):\n",
    "        x = self.pool(F.relu(self.conv1(x)))  # [B, 32, 32, 32]\n",
    "        x = self.pool(F.relu(self.conv2(x)))  # [B, 64, 16, 16]\n",
    "        x = x.view(x.size(0), -1)             # flatten\n",
    "        x = F.relu(self.fc1(x))\n",
    "        return self.fc2(x)  # return logits (no sigmoid)\n",
    "\n",
    "#  TRAINING SETUP\n",
    "def train_model(dataset_path, num_epochs=10, batch_size=32):\n",
    "    dataset = BigEarthNetVegetationDataset(dataset_path)\n",
    "   # dataset = VegetationDataset(dataset_path)\n",
    "    train_size = int(0.8 * len(dataset))\n",
    "    val_size = len(dataset) - train_size\n",
    "    train_ds, val_ds = random_split(dataset, [train_size, val_size])\n",
    "\n",
    "    train_loader = DataLoader(train_ds, batch_size=batch_size, shuffle=True)\n",
    "    val_loader = DataLoader(val_ds, batch_size=batch_size)\n",
    "\n",
    "    model = SimpleCNN(in_channels=4)\n",
    "    device = torch.device('cuda' if torch.cuda.is_available() else 'cpu')\n",
    "    model = model.to(device)\n",
    "\n",
    "    criterion = nn.BCEWithLogitsLoss()\n",
    "    optimizer = torch.optim.Adam(model.parameters(), lr=1e-3)\n",
    "    loss_history = []\n",
    "\n",
    "    for epoch in range(num_epochs):\n",
    "        model.train()\n",
    "        total_loss = 0\n",
    "        progress = tqdm(train_loader, desc=f\"Epoch {epoch+1}/{num_epochs}\", unit=\"batch\")\n",
    "        for images, labels in progress:\n",
    "            images = images.to(device)\n",
    "            labels = labels.to(device).unsqueeze(1)\n",
    "\n",
    "            optimizer.zero_grad()\n",
    "            outputs = model(images)\n",
    "            loss = criterion(outputs, labels)\n",
    "            loss.backward()\n",
    "            optimizer.step()\n",
    "\n",
    "            total_loss += loss.item()\n",
    "            progress.set_postfix(loss=loss.item())\n",
    "        avg_loss = total_loss / len(train_loader)\n",
    "        print(f\"Epoch {epoch+1}/{num_epochs}, Avg Loss: {total_loss/len(train_loader):.4f}\")\n",
    "        loss_history.append(avg_loss)\n",
    "\n",
    "    return model, loss_history\n",
    "\n",
    "\n",
    "\n",
    "#  EVALUATION FUNCTION\n",
    "def evaluate_model(model, dataloader):\n",
    "    model.eval()\n",
    "    correct = 0\n",
    "    total = 0\n",
    "\n",
    "    with torch.no_grad():\n",
    "        for images, labels in dataloader:\n",
    "            outputs = model(images)               # logits\n",
    "            probs = torch.sigmoid(outputs)        # convert logits to probabilities\n",
    "            preds = torch.round(probs).squeeze()\n",
    "            labels = labels.squeeze()\n",
    "            correct += (preds == labels).sum().item()\n",
    "            total += labels.size(0)\n",
    "\n",
    "    accuracy = correct / total\n",
    "    print(f\"Accuracy: {accuracy * 100:.2f}%\")\n",
    "    return accuracy\n",
    "\n",
    "from PIL import Image\n",
    "\n",
    "def predict(model, image_path):\n",
    "    # Detect file type\n",
    "    if image_path.endswith('.npy'):\n",
    "        array = np.load(image_path)  # shape: [H, W, 15]\n",
    "        red = array[:, :, 3] / 10000.0\n",
    "        green = array[:, :, 2] / 10000.0\n",
    "        blue = array[:, :, 1] / 10000.0\n",
    "        ndvi = array[:, :, 13]\n",
    "\n",
    "        # Stack to [4, H, W]\n",
    "        stacked = np.stack([red, green, blue, ndvi], axis=0)\n",
    "    elif image_path.endswith('.png') or image_path.endswith('.jpg'):\n",
    "        img = Image.open(image_path).convert('RGB')\n",
    "        img = img.resize((64, 64))  # Resize for consistency\n",
    "        img = np.array(img).astype(np.float32) / 255.0\n",
    "\n",
    "        red = img[:, :, 0]\n",
    "        green = img[:, :, 1]\n",
    "        blue = img[:, :, 2]\n",
    "        ndvi = np.zeros_like(red)\n",
    "\n",
    "        # Stack to [4, 64, 64]\n",
    "        stacked = np.stack([red, green, blue, ndvi], axis=0)\n",
    "\n",
    "    elif image_path.endswith('.tif') or image_path.endswith('.tiff'):\n",
    "        import rasterio\n",
    "        with rasterio.open(image_path) as src:\n",
    "        # Read bands using Sentinel-2 standard band numbers:\n",
    "        # Band 4 = red (index 4)\n",
    "        # Band 3 = green (index 3)\n",
    "        # Band 2 = blue (index 2)\n",
    "        # Band 8 = NIR (index 8)\n",
    "         red = src.read(4).astype(np.float32) / 10000.0\n",
    "         green = src.read(3).astype(np.float32) / 10000.0\n",
    "         blue = src.read(2).astype(np.float32) / 10000.0\n",
    "         nir = src.read(8).astype(np.float32) / 10000.0\n",
    "\n",
    "        # Compute NDVI\n",
    "         ndvi = (nir - red) / (nir + red + 1e-5)\n",
    "\n",
    "        # Stack to [4, H, W]\n",
    "         stacked = np.stack([red, green, blue, ndvi], axis=0)\n",
    "    else:\n",
    "        raise ValueError(\"Unsupported file format. Use .npy or .png/.jpg\")\n",
    "\n",
    "    # Resize if needed (for .npy)\n",
    "    if stacked.shape[1:] != (64, 64):\n",
    "        tensor = torch.tensor(stacked, dtype=torch.float32).unsqueeze(0)  # [1, 4, H, W]\n",
    "        tensor = F.interpolate(tensor, size=(64, 64), mode='bilinear', align_corners=False)\n",
    "    else:\n",
    "        tensor = torch.tensor(stacked, dtype=torch.float32).unsqueeze(0)\n",
    "\n",
    "    # Predict\n",
    "    model.eval()\n",
    "    device = next(model.parameters()).device\n",
    "    with torch.no_grad():\n",
    "        logit = model(tensor.to(device))\n",
    "        prob = torch.sigmoid(logit).item()\n",
    "        label = \"VEGETATION\" if prob > 0.5 else \"NO_VEGETATION\"\n",
    "   \n",
    "   # visualize = true \n",
    "    import matplotlib.pyplot as plt\n",
    "\n",
    "    rgb_vis = np.stack([red, green, blue], axis=-1)\n",
    "    rgb_vis = np.clip(rgb_vis, 0, 1)\n",
    "    plt.figure(figsize=(4, 4))\n",
    "    plt.imshow(rgb_vis)\n",
    "    plt.title(f\"Prediction: {label}\", fontsize=14, color='green' if label == \"VEGETATION\" else 'red')\n",
    "    plt.axis('off')\n",
    "    plt.show()\n",
    "  "
   ]
  },
  {
   "cell_type": "code",
   "execution_count": 24,
   "id": "6377b500",
   "metadata": {},
   "outputs": [
    {
     "name": "stderr",
     "output_type": "stream",
     "text": [
      "Epoch 1/15: 100%|██████████| 375/375 [05:38<00:00,  1.11batch/s, loss=0.354]\n"
     ]
    },
    {
     "name": "stdout",
     "output_type": "stream",
     "text": [
      "Epoch 1/15, Avg Loss: 0.4679\n"
     ]
    },
    {
     "name": "stderr",
     "output_type": "stream",
     "text": [
      "Epoch 2/15: 100%|██████████| 375/375 [04:14<00:00,  1.47batch/s, loss=0.389]\n"
     ]
    },
    {
     "name": "stdout",
     "output_type": "stream",
     "text": [
      "Epoch 2/15, Avg Loss: 0.3863\n"
     ]
    },
    {
     "name": "stderr",
     "output_type": "stream",
     "text": [
      "Epoch 3/15: 100%|██████████| 375/375 [02:15<00:00,  2.76batch/s, loss=0.246]\n"
     ]
    },
    {
     "name": "stdout",
     "output_type": "stream",
     "text": [
      "Epoch 3/15, Avg Loss: 0.3594\n"
     ]
    },
    {
     "name": "stderr",
     "output_type": "stream",
     "text": [
      "Epoch 4/15: 100%|██████████| 375/375 [00:34<00:00, 10.78batch/s, loss=0.436]\n"
     ]
    },
    {
     "name": "stdout",
     "output_type": "stream",
     "text": [
      "Epoch 4/15, Avg Loss: 0.3403\n"
     ]
    },
    {
     "name": "stderr",
     "output_type": "stream",
     "text": [
      "Epoch 5/15: 100%|██████████| 375/375 [01:31<00:00,  4.11batch/s, loss=0.429] \n"
     ]
    },
    {
     "name": "stdout",
     "output_type": "stream",
     "text": [
      "Epoch 5/15, Avg Loss: 0.3159\n"
     ]
    },
    {
     "name": "stderr",
     "output_type": "stream",
     "text": [
      "Epoch 6/15: 100%|██████████| 375/375 [00:42<00:00,  8.79batch/s, loss=0.429]\n"
     ]
    },
    {
     "name": "stdout",
     "output_type": "stream",
     "text": [
      "Epoch 6/15, Avg Loss: 0.2948\n"
     ]
    },
    {
     "name": "stderr",
     "output_type": "stream",
     "text": [
      "Epoch 7/15: 100%|██████████| 375/375 [00:43<00:00,  8.64batch/s, loss=0.257] \n"
     ]
    },
    {
     "name": "stdout",
     "output_type": "stream",
     "text": [
      "Epoch 7/15, Avg Loss: 0.2782\n"
     ]
    },
    {
     "name": "stderr",
     "output_type": "stream",
     "text": [
      "Epoch 8/15: 100%|██████████| 375/375 [00:41<00:00,  8.96batch/s, loss=0.255] \n"
     ]
    },
    {
     "name": "stdout",
     "output_type": "stream",
     "text": [
      "Epoch 8/15, Avg Loss: 0.2585\n"
     ]
    },
    {
     "name": "stderr",
     "output_type": "stream",
     "text": [
      "Epoch 9/15: 100%|██████████| 375/375 [01:11<00:00,  5.25batch/s, loss=0.192] \n"
     ]
    },
    {
     "name": "stdout",
     "output_type": "stream",
     "text": [
      "Epoch 9/15, Avg Loss: 0.2236\n"
     ]
    },
    {
     "name": "stderr",
     "output_type": "stream",
     "text": [
      "Epoch 10/15: 100%|██████████| 375/375 [00:59<00:00,  6.31batch/s, loss=0.0891]\n"
     ]
    },
    {
     "name": "stdout",
     "output_type": "stream",
     "text": [
      "Epoch 10/15, Avg Loss: 0.1892\n"
     ]
    },
    {
     "name": "stderr",
     "output_type": "stream",
     "text": [
      "Epoch 11/15: 100%|██████████| 375/375 [00:56<00:00,  6.60batch/s, loss=0.261] \n"
     ]
    },
    {
     "name": "stdout",
     "output_type": "stream",
     "text": [
      "Epoch 11/15, Avg Loss: 0.1578\n"
     ]
    },
    {
     "name": "stderr",
     "output_type": "stream",
     "text": [
      "Epoch 12/15: 100%|██████████| 375/375 [00:58<00:00,  6.46batch/s, loss=0.176] \n"
     ]
    },
    {
     "name": "stdout",
     "output_type": "stream",
     "text": [
      "Epoch 12/15, Avg Loss: 0.1278\n"
     ]
    },
    {
     "name": "stderr",
     "output_type": "stream",
     "text": [
      "Epoch 13/15: 100%|██████████| 375/375 [00:57<00:00,  6.49batch/s, loss=0.0454] \n"
     ]
    },
    {
     "name": "stdout",
     "output_type": "stream",
     "text": [
      "Epoch 13/15, Avg Loss: 0.0988\n"
     ]
    },
    {
     "name": "stderr",
     "output_type": "stream",
     "text": [
      "Epoch 14/15: 100%|██████████| 375/375 [00:56<00:00,  6.70batch/s, loss=0.201]  \n"
     ]
    },
    {
     "name": "stdout",
     "output_type": "stream",
     "text": [
      "Epoch 14/15, Avg Loss: 0.0739\n"
     ]
    },
    {
     "name": "stderr",
     "output_type": "stream",
     "text": [
      "Epoch 15/15: 100%|██████████| 375/375 [01:00<00:00,  6.17batch/s, loss=0.0206] \n"
     ]
    },
    {
     "name": "stdout",
     "output_type": "stream",
     "text": [
      "Epoch 15/15, Avg Loss: 0.0588\n"
     ]
    },
    {
     "data": {
      "image/png": "[encoded data removed]",
      "text/plain": [
       "<Figure size 640x480 with 1 Axes>"
      ]
     },
     "metadata": {},
     "output_type": "display_data"
    },
    {
     "name": "stdout",
     "output_type": "stream",
     "text": [
      "Total dataset size: 15000\n",
      "Validation set size: 3000\n",
      "Accuracy: 95.27%\n"
     ]
    },
    {
     "data": {
      "text/plain": [
       "0.9526666666666667"
      ]
     },
     "execution_count": 24,
     "metadata": {},
     "output_type": "execute_result"
    }
   ],
   "source": [
    "import zipfile\n",
    "import os\n",
    "import matplotlib.pyplot as plt\n",
    "\n",
    "# Local path to the ZIP file\n",
    "#zip_path = r\"C:\\Users\\mayer\\Работен плот\\final forest detector\\Big Earth Net Dataset\\BigEarthNet-S2\\S2A_MSIL2A_20170613T101031_N9999_R022_T33UUP\"\n",
    "\n",
    "# Folder where the data will be extracted\n",
    "#extracted_path = r\"C:\\Users\\mayer\\Работен плот\\final forest detector\\Big Earth Net Dataset\\BigEarthNet-S2\\S2A_MSIL2A_20170613T101031_N9999_R022_T33UUP\"\n",
    "\n",
    "# Only extract if not already extracted\n",
    "'''\n",
    "if not os.path.exists(extracted_path):\n",
    "    with zipfile.ZipFile(zip_path, 'r') as zip_ref:\n",
    "        zip_ref.extractall(extracted_path)\n",
    "\n",
    "'''\n",
    "from torch.utils.data import random_split\n",
    "dataset_path=r\"C:\\Users\\mayer\\Работен плот\\final forest detector\\Big Earth Net Dataset\\BigEarthNet-S2\"\n",
    "dataset = BigEarthNetVegetationDataset(dataset_path)\n",
    "#dataset = VegetationDataset(dataset_path)\n",
    "train_size = int(0.8 * len(dataset))\n",
    "val_size = len(dataset) - train_size\n",
    "train_dataset, val_dataset = random_split(dataset, [train_size, val_size])\n",
    "\n",
    "def evaluate_model(model, dataloader):\n",
    "    model.eval()\n",
    "    correct = 0\n",
    "    total = 0\n",
    "\n",
    "    with torch.no_grad():\n",
    "        for images, labels in dataloader:\n",
    "            outputs = model(images)\n",
    "            preds = torch.round(torch.sigmoid(outputs)).squeeze()\n",
    "            correct += (preds == labels).sum().item()\n",
    "            total += labels.size(0)\n",
    "\n",
    "    accuracy = correct / total\n",
    "    print(f\"Accuracy: {accuracy * 100:.2f}%\")  # Shows 0-100%\n",
    "    return accuracy\n",
    "# Train the model using the extracted folder\n",
    "model, loss_history = train_model(dataset_path=r\"C:\\Users\\mayer\\Работен плот\\final forest detector\\Big Earth Net Dataset\\BigEarthNet-S2\", num_epochs=15, batch_size=32)\n",
    "\n",
    "plt.plot(range(1, len(loss_history)+1), loss_history)\n",
    "plt.xlabel(\"Epoch\")\n",
    "plt.ylabel(\"Avg Training Loss\")\n",
    "plt.title(\"Loss vs. Epoch\")\n",
    "plt.show()\n",
    "\n",
    "\n",
    "from torch.utils.data import DataLoader\n",
    "\n",
    "val_loader = DataLoader(val_dataset, batch_size=16, shuffle=False)\n",
    "print(f\"Total dataset size: {len(dataset)}\")\n",
    "print(f\"Validation set size: {len(val_dataset)}\")\n",
    "# After model has finished training\n",
    "evaluate_model(model, val_loader)"
   ]
  },
  {
   "cell_type": "code",
   "execution_count": 203,
   "id": "c1384a75",
   "metadata": {},
   "outputs": [
    {
     "data": {
      "image/png": "[encoded data removed]",
      "text/plain": [
       "<Figure size 400x400 with 1 Axes>"
      ]
     },
     "metadata": {},
     "output_type": "display_data"
    },
    {
     "name": "stdout",
     "output_type": "stream",
     "text": [
      "None\n"
     ]
    }
   ],
   "source": [
    "\n",
    "import zipfile\n",
    "import os\n",
    "\n",
    "\n",
    "testFile_path = r\"C:\\Users\\mayer\\Работен плот\\final forest detector\\photos from DIego previous project\\Forest_2.tif\" # Get the uploaded filename\n",
    "result = predict(model, testFile_path)\n",
    "print(result)"
   ]
  },
  {
   "cell_type": "code",
   "execution_count": 39,
   "id": "7e1276a7",
   "metadata": {},
   "outputs": [],
   "source": [
    "torch.save(model.state_dict(), \"WeightsProbe.pth\")"
   ]
  },
  {
   "cell_type": "code",
   "execution_count": 205,
   "id": "1cbbaea8",
   "metadata": {},
   "outputs": [],
   "source": [
    "import os\n",
    "from pathlib import Path\n",
    "import numpy as np\n",
    "import torch\n",
    "import torch.nn.functional as F\n",
    "import csv\n",
    "from PIL import Image\n",
    "\n",
    "def _prepare_tensor_from_npy(path, input_size=(64,64), device=torch.device('cpu')):\n",
    "    \"\"\"\n",
    "    Replicates your predict() preprocessing for .npy files:\n",
    "      - expects array shape [H, W, 15]\n",
    "      - red = arr[:,:,3] / 10000.0\n",
    "      - green = arr[:,:,2] / 10000.0\n",
    "      - blue = arr[:,:,1] / 10000.0\n",
    "      - ndvi = arr[:,:,13]\n",
    "      - stacks to shape (1, 4, H, W), resizes to input_size\n",
    "    Returns a float tensor on the given device.\n",
    "    \"\"\"\n",
    "    arr = np.load(path)  # user used arrays like this in predict()\n",
    "    if arr.ndim != 3:\n",
    "        raise ValueError(f\"Expected 3D array for {path}, got shape {arr.shape}\")\n",
    "    # pick channels exactly like your predict()\n",
    "    red = arr[:, :, 3].astype(np.float32) / 10000.0\n",
    "    green = arr[:, :, 2].astype(np.float32) / 10000.0\n",
    "    blue = arr[:, :, 1].astype(np.float32) / 10000.0\n",
    "    ndvi = arr[:, :, 13].astype(np.float32)  # already NDVI\n",
    "    stacked = np.stack([red, green, blue, ndvi], axis=0)  # shape (4, H, W)\n",
    "    tensor = torch.from_numpy(stacked).unsqueeze(0).float()  # 1 x 4 x H x W\n",
    "    # resize to model input if necessary (same as in predict() where you used image.resize)\n",
    "    tensor = F.interpolate(tensor, size=input_size, mode='bilinear', align_corners=False)\n",
    "    return tensor.to(device)\n",
    "\n",
    "def _prepare_tensor_from_rgb_image(path, input_size=(64,64), device=torch.device('cpu')):\n",
    "    \"\"\"\n",
    "    If you also want to process .png/.jpg files: open RGB, normalize to [0,1]\n",
    "    and create a fake NDVI channel (zeros) so shape matches 4 channels.\n",
    "    (Your predict() handles images differently; adjust if you used different steps.)\n",
    "    \"\"\"\n",
    "    img = Image.open(path).convert('RGB')\n",
    "    img = img.resize(input_size)\n",
    "    arr = np.array(img).astype(np.float32) / 255.0\n",
    "    # red, green, blue in same order used above\n",
    "    red = arr[..., 0]\n",
    "    green = arr[..., 1]\n",
    "    blue = arr[..., 2]\n",
    "    ndvi = np.zeros_like(red, dtype=np.float32)  # placeholder\n",
    "    stacked = np.stack([red, green, blue, ndvi], axis=0)\n",
    "    tensor = torch.from_numpy(stacked).unsqueeze(0).float()\n",
    "    return tensor.to(device)\n",
    "\n",
    "def classify_folder_using_predict_logic(model,\n",
    "                                        folder_path,\n",
    "                                        device=None,\n",
    "                                        input_size=(64,64),\n",
    "                                        threshold=0.5,\n",
    "                                        save_csv_path=None,\n",
    "                                        verbose=True):\n",
    "    \"\"\"\n",
    "    Classify every .npy (and optionally .png/.jpg) in folder_path using the same preprocessing as predict().\n",
    "    Returns a list of dicts: {'filename', 'prob', 'label'}.\n",
    "    \"\"\"\n",
    "    device = device or (torch.device(\"cuda\") if torch.cuda.is_available() else torch.device(\"cpu\"))\n",
    "    model = model.to(device)\n",
    "    model.eval()\n",
    "\n",
    "    p = Path(folder_path)\n",
    "    files = sorted([f for f in p.iterdir() if f.is_file() and f.suffix.lower() in ('.npy', '.png', '.jpg', '.jpeg')])\n",
    "\n",
    "    results = []\n",
    "    veg_count = 0\n",
    "    nonveg_count = 0\n",
    "\n",
    "    with torch.no_grad():\n",
    "        for f in files:\n",
    "            try:\n",
    "                if f.suffix.lower() == '.npy':\n",
    "                    tensor = _prepare_tensor_from_npy(str(f), input_size=input_size, device=device)\n",
    "                else:\n",
    "                    tensor = _prepare_tensor_from_rgb_image(str(f), input_size=input_size, device=device)\n",
    "\n",
    "                out = model(tensor)    # model output (logit or logits)\n",
    "                # normalize to single logit for \"vegetation\" class like in predict():\n",
    "                if isinstance(out, torch.Tensor):\n",
    "                    if out.dim() == 2 and out.size(1) == 2:\n",
    "                        logit = out[:, 1]   # class-1 logit\n",
    "                    else:\n",
    "                        # out shape maybe [1,1] or [1]\n",
    "                        logit = out.view(-1)[0:1]\n",
    "                else:\n",
    "                    # fallback\n",
    "                    logit = torch.tensor([float(out)], device=device)\n",
    "\n",
    "                prob = torch.sigmoid(logit).item()  # <--- IMPORTANT: apply sigmoid\n",
    "                label = \"VEGETATION\" if prob > threshold else \"NO_VEGETATION\"\n",
    "\n",
    "                results.append({'filename': str(f), 'prob': float(prob), 'label': label})\n",
    "                if label == \"VEGETATION\":\n",
    "                    veg_count += 1\n",
    "                else:\n",
    "                    nonveg_count += 1\n",
    "\n",
    "                if verbose:\n",
    "                    print(f\"{f.name} -> prob={prob:.4f} -> {label}\")\n",
    "\n",
    "            except Exception as e:\n",
    "                print(f\"[ERROR] {f.name}: {e}\")\n",
    "                results.append({'filename': str(f), 'prob': None, 'label': 'ERROR', 'error': str(e)})\n",
    "\n",
    "    if verbose:\n",
    "        print(f\"Processed {len(files)} files -> VEGETATION: {veg_count} ; NO_VEGETATION: {nonveg_count}\")\n",
    "\n",
    "    if save_csv_path:\n",
    "        keys = sorted(set().union(*(r.keys() for r in results)))\n",
    "        with open(save_csv_path, 'w', newline='') as csvf:\n",
    "            writer = csv.DictWriter(csvf, fieldnames=keys)\n",
    "            writer.writeheader()\n",
    "            for r in results:\n",
    "                writer.writerow(r)\n",
    "        if verbose:\n",
    "            print(f\"Saved results to {save_csv_path}\")\n",
    "\n",
    "    return results\n"
   ]
  },
  {
   "cell_type": "code",
   "execution_count": 206,
   "id": "5ea4cddf",
   "metadata": {},
   "outputs": [
    {
     "data": {
      "text/plain": [
       "SimpleCNN(\n",
       "  (conv1): Conv2d(4, 32, kernel_size=(3, 3), stride=(1, 1), padding=(1, 1))\n",
       "  (conv2): Conv2d(32, 64, kernel_size=(3, 3), stride=(1, 1), padding=(1, 1))\n",
       "  (pool): MaxPool2d(kernel_size=2, stride=2, padding=0, dilation=1, ceil_mode=False)\n",
       "  (fc1): Linear(in_features=16384, out_features=128, bias=True)\n",
       "  (fc2): Linear(in_features=128, out_features=1, bias=True)\n",
       ")"
      ]
     },
     "execution_count": 206,
     "metadata": {},
     "output_type": "execute_result"
    }
   ],
   "source": [
    "device = torch.device(\"cuda\" if torch.cuda.is_available() else \"cpu\")\n",
    "\n",
    "model = SimpleCNN()  # or whatever your model class is\n",
    "state_dict = torch.load(r\"C:\\Users\\mayer\\Работен плот\\final forest detector\\WeightsProbe.pth\", map_location=device)\n",
    "model.load_state_dict(state_dict)\n",
    "model.to(device)\n",
    "model.eval()\n"
   ]
  },
  {
   "cell_type": "code",
   "execution_count": 213,
   "id": "fea95df0",
   "metadata": {},
   "outputs": [
    {
     "name": "stdout",
     "output_type": "stream",
     "text": [
      "chile_tile_(1792, 7936).npy -> prob=0.6551 -> VEGETATION\n",
      "chile_tile_(3072, 7936).npy -> prob=0.9795 -> VEGETATION\n",
      "chile_tile_(3584, 7168).npy -> prob=0.9016 -> VEGETATION\n",
      "chile_tile_(4864, 9984).npy -> prob=0.8044 -> VEGETATION\n",
      "chile_tile_(5376, 7168).npy -> prob=0.8451 -> VEGETATION\n",
      "chile_tile_(5888, 9728).npy -> prob=0.5538 -> VEGETATION\n",
      "chile_tile_(6400, 6656).npy -> prob=0.9787 -> VEGETATION\n",
      "chile_tile_(7168, 5120).npy -> prob=0.9659 -> VEGETATION\n",
      "chile_tile_(7936, 8960).npy -> prob=0.9422 -> VEGETATION\n",
      "chile_tile_(9984, 8704).npy -> prob=0.9670 -> VEGETATION\n",
      "flipped_h_chile_tile_(1792, 7936).npy -> prob=0.8683 -> VEGETATION\n",
      "flipped_h_chile_tile_(3072, 7936).npy -> prob=0.8497 -> VEGETATION\n",
      "flipped_h_chile_tile_(3584, 7168).npy -> prob=0.8580 -> VEGETATION\n",
      "flipped_h_chile_tile_(4864, 9984).npy -> prob=0.9077 -> VEGETATION\n",
      "flipped_h_chile_tile_(5376, 7168).npy -> prob=0.8953 -> VEGETATION\n",
      "flipped_h_chile_tile_(5888, 9728).npy -> prob=0.8421 -> VEGETATION\n",
      "flipped_h_chile_tile_(6400, 6656).npy -> prob=0.9865 -> VEGETATION\n",
      "flipped_h_chile_tile_(7168, 5120).npy -> prob=0.9798 -> VEGETATION\n",
      "flipped_h_chile_tile_(7936, 8960).npy -> prob=0.9635 -> VEGETATION\n",
      "flipped_h_chile_tile_(9984, 8704).npy -> prob=0.9545 -> VEGETATION\n",
      "flipped_h_greece_tile_(10496, 5888).npy -> prob=0.0720 -> NO_VEGETATION\n",
      "flipped_h_greece_tile_(1792, 2816).npy -> prob=0.9847 -> VEGETATION\n",
      "flipped_h_greece_tile_(1792, 3584).npy -> prob=0.9963 -> VEGETATION\n",
      "flipped_h_greece_tile_(256, 256).npy -> prob=0.9752 -> VEGETATION\n",
      "flipped_h_greece_tile_(2560, 768).npy -> prob=0.9844 -> VEGETATION\n",
      "flipped_h_greece_tile_(3072, 2304).npy -> prob=0.9967 -> VEGETATION\n",
      "flipped_h_greece_tile_(3840, 2816).npy -> prob=0.9884 -> VEGETATION\n",
      "flipped_h_greece_tile_(4352, 1280).npy -> prob=0.9743 -> VEGETATION\n",
      "flipped_h_greece_tile_(5632, 1536).npy -> prob=0.9871 -> VEGETATION\n",
      "flipped_h_greece_tile_(8448, 3072).npy -> prob=0.8890 -> VEGETATION\n",
      "flipped_v_chile_tile_(1792, 7936).npy -> prob=0.7709 -> VEGETATION\n",
      "flipped_v_chile_tile_(3072, 7936).npy -> prob=0.9467 -> VEGETATION\n",
      "flipped_v_chile_tile_(3584, 7168).npy -> prob=0.8770 -> VEGETATION\n",
      "flipped_v_chile_tile_(4864, 9984).npy -> prob=0.9225 -> VEGETATION\n",
      "flipped_v_chile_tile_(5376, 7168).npy -> prob=0.9378 -> VEGETATION\n",
      "flipped_v_chile_tile_(5888, 9728).npy -> prob=0.9620 -> VEGETATION\n",
      "flipped_v_chile_tile_(6400, 6656).npy -> prob=0.9504 -> VEGETATION\n",
      "flipped_v_chile_tile_(7168, 5120).npy -> prob=0.9852 -> VEGETATION\n",
      "flipped_v_chile_tile_(7936, 8960).npy -> prob=0.9645 -> VEGETATION\n",
      "flipped_v_chile_tile_(9984, 8704).npy -> prob=0.9606 -> VEGETATION\n",
      "flipped_v_greece_tile_(10496, 5888).npy -> prob=0.0039 -> NO_VEGETATION\n",
      "flipped_v_greece_tile_(1792, 2816).npy -> prob=0.9876 -> VEGETATION\n",
      "flipped_v_greece_tile_(1792, 3584).npy -> prob=0.9875 -> VEGETATION\n",
      "flipped_v_greece_tile_(256, 256).npy -> prob=0.9857 -> VEGETATION\n",
      "flipped_v_greece_tile_(2560, 768).npy -> prob=0.9969 -> VEGETATION\n",
      "flipped_v_greece_tile_(3072, 2304).npy -> prob=0.9387 -> VEGETATION\n",
      "flipped_v_greece_tile_(3840, 2816).npy -> prob=0.8541 -> VEGETATION\n",
      "flipped_v_greece_tile_(4352, 1280).npy -> prob=0.9862 -> VEGETATION\n",
      "flipped_v_greece_tile_(5632, 1536).npy -> prob=0.9878 -> VEGETATION\n",
      "flipped_v_greece_tile_(8448, 3072).npy -> prob=0.9969 -> VEGETATION\n",
      "greece_tile_(10496, 5888).npy -> prob=0.1130 -> NO_VEGETATION\n",
      "greece_tile_(1792, 2816).npy -> prob=0.9935 -> VEGETATION\n",
      "greece_tile_(1792, 3584).npy -> prob=0.9955 -> VEGETATION\n",
      "greece_tile_(256, 256).npy -> prob=0.9840 -> VEGETATION\n",
      "greece_tile_(2560, 768).npy -> prob=0.9861 -> VEGETATION\n",
      "greece_tile_(3072, 2304).npy -> prob=0.9967 -> VEGETATION\n",
      "greece_tile_(3840, 2816).npy -> prob=0.8847 -> VEGETATION\n",
      "greece_tile_(4352, 1280).npy -> prob=0.9773 -> VEGETATION\n",
      "greece_tile_(5632, 1536).npy -> prob=0.9852 -> VEGETATION\n",
      "greece_tile_(8448, 3072).npy -> prob=0.9991 -> VEGETATION\n",
      "rot180_chile_tile_(1792, 7936).npy -> prob=0.9206 -> VEGETATION\n",
      "rot180_chile_tile_(3072, 7936).npy -> prob=0.8936 -> VEGETATION\n",
      "rot180_chile_tile_(3584, 7168).npy -> prob=0.9273 -> VEGETATION\n",
      "rot180_chile_tile_(4864, 9984).npy -> prob=0.8165 -> VEGETATION\n",
      "rot180_chile_tile_(5376, 7168).npy -> prob=0.9529 -> VEGETATION\n",
      "rot180_chile_tile_(5888, 9728).npy -> prob=0.6627 -> VEGETATION\n",
      "rot180_chile_tile_(6400, 6656).npy -> prob=0.9577 -> VEGETATION\n",
      "rot180_chile_tile_(7168, 5120).npy -> prob=0.9673 -> VEGETATION\n",
      "rot180_chile_tile_(7936, 8960).npy -> prob=0.9439 -> VEGETATION\n",
      "rot180_chile_tile_(9984, 8704).npy -> prob=0.9237 -> VEGETATION\n",
      "rot180_greece_tile_(10496, 5888).npy -> prob=0.0028 -> NO_VEGETATION\n",
      "rot180_greece_tile_(1792, 2816).npy -> prob=0.9929 -> VEGETATION\n",
      "rot180_greece_tile_(1792, 3584).npy -> prob=0.9902 -> VEGETATION\n",
      "rot180_greece_tile_(256, 256).npy -> prob=0.9973 -> VEGETATION\n",
      "rot180_greece_tile_(2560, 768).npy -> prob=0.9884 -> VEGETATION\n",
      "rot180_greece_tile_(3072, 2304).npy -> prob=0.9898 -> VEGETATION\n",
      "rot180_greece_tile_(3840, 2816).npy -> prob=0.9911 -> VEGETATION\n",
      "rot180_greece_tile_(4352, 1280).npy -> prob=0.9835 -> VEGETATION\n",
      "rot180_greece_tile_(5632, 1536).npy -> prob=0.9921 -> VEGETATION\n",
      "rot180_greece_tile_(8448, 3072).npy -> prob=0.9592 -> VEGETATION\n",
      "rot90_chile_tile_(1792, 7936).npy -> prob=0.7319 -> VEGETATION\n",
      "rot90_chile_tile_(3072, 7936).npy -> prob=0.9059 -> VEGETATION\n",
      "rot90_chile_tile_(3584, 7168).npy -> prob=0.9217 -> VEGETATION\n",
      "rot90_chile_tile_(4864, 9984).npy -> prob=0.9535 -> VEGETATION\n",
      "rot90_chile_tile_(5376, 7168).npy -> prob=0.9620 -> VEGETATION\n",
      "rot90_chile_tile_(5888, 9728).npy -> prob=0.8437 -> VEGETATION\n",
      "rot90_chile_tile_(6400, 6656).npy -> prob=0.9441 -> VEGETATION\n",
      "rot90_chile_tile_(7168, 5120).npy -> prob=0.9750 -> VEGETATION\n",
      "rot90_chile_tile_(7936, 8960).npy -> prob=0.9724 -> VEGETATION\n",
      "rot90_chile_tile_(9984, 8704).npy -> prob=0.9279 -> VEGETATION\n",
      "rot90_greece_tile_(10496, 5888).npy -> prob=0.9958 -> VEGETATION\n",
      "rot90_greece_tile_(1792, 2816).npy -> prob=0.9896 -> VEGETATION\n",
      "rot90_greece_tile_(1792, 3584).npy -> prob=0.9924 -> VEGETATION\n",
      "rot90_greece_tile_(256, 256).npy -> prob=0.9791 -> VEGETATION\n",
      "rot90_greece_tile_(2560, 768).npy -> prob=0.9953 -> VEGETATION\n",
      "rot90_greece_tile_(3072, 2304).npy -> prob=0.9941 -> VEGETATION\n",
      "rot90_greece_tile_(3840, 2816).npy -> prob=0.9899 -> VEGETATION\n",
      "rot90_greece_tile_(4352, 1280).npy -> prob=0.9941 -> VEGETATION\n",
      "rot90_greece_tile_(5632, 1536).npy -> prob=0.9844 -> VEGETATION\n",
      "rot90_greece_tile_(8448, 3072).npy -> prob=0.9902 -> VEGETATION\n",
      "Processed 100 files -> VEGETATION: 96 ; NO_VEGETATION: 4\n",
      "{'filename': 'C:\\\\Users\\\\mayer\\\\Работен плот\\\\final forest detector\\\\sample_veg_detection_data\\\\VEGETATION\\\\chile_tile_(1792, 7936).npy', 'prob': 0.6551175713539124, 'label': 'VEGETATION'}\n",
      "{'filename': 'C:\\\\Users\\\\mayer\\\\Работен плот\\\\final forest detector\\\\sample_veg_detection_data\\\\VEGETATION\\\\chile_tile_(3072, 7936).npy', 'prob': 0.9795452356338501, 'label': 'VEGETATION'}\n",
      "{'filename': 'C:\\\\Users\\\\mayer\\\\Работен плот\\\\final forest detector\\\\sample_veg_detection_data\\\\VEGETATION\\\\chile_tile_(3584, 7168).npy', 'prob': 0.9016473889350891, 'label': 'VEGETATION'}\n",
      "{'filename': 'C:\\\\Users\\\\mayer\\\\Работен плот\\\\final forest detector\\\\sample_veg_detection_data\\\\VEGETATION\\\\chile_tile_(4864, 9984).npy', 'prob': 0.8043558597564697, 'label': 'VEGETATION'}\n",
      "{'filename': 'C:\\\\Users\\\\mayer\\\\Работен плот\\\\final forest detector\\\\sample_veg_detection_data\\\\VEGETATION\\\\chile_tile_(5376, 7168).npy', 'prob': 0.8450753092765808, 'label': 'VEGETATION'}\n",
      "{'filename': 'C:\\\\Users\\\\mayer\\\\Работен плот\\\\final forest detector\\\\sample_veg_detection_data\\\\VEGETATION\\\\chile_tile_(1792, 7936).npy', 'prob': 0.6551175713539124, 'label': 'VEGETATION'}\n",
      "{'filename': 'C:\\\\Users\\\\mayer\\\\Работен плот\\\\final forest detector\\\\sample_veg_detection_data\\\\VEGETATION\\\\chile_tile_(3072, 7936).npy', 'prob': 0.9795452356338501, 'label': 'VEGETATION'}\n",
      "{'filename': 'C:\\\\Users\\\\mayer\\\\Работен плот\\\\final forest detector\\\\sample_veg_detection_data\\\\VEGETATION\\\\chile_tile_(3584, 7168).npy', 'prob': 0.9016473889350891, 'label': 'VEGETATION'}\n",
      "{'filename': 'C:\\\\Users\\\\mayer\\\\Работен плот\\\\final forest detector\\\\sample_veg_detection_data\\\\VEGETATION\\\\chile_tile_(4864, 9984).npy', 'prob': 0.8043558597564697, 'label': 'VEGETATION'}\n",
      "{'filename': 'C:\\\\Users\\\\mayer\\\\Работен плот\\\\final forest detector\\\\sample_veg_detection_data\\\\VEGETATION\\\\chile_tile_(5376, 7168).npy', 'prob': 0.8450753092765808, 'label': 'VEGETATION'}\n",
      "VEGETATION: 96 NO_VEGETATION: 4\n"
     ]
    }
   ],
   "source": [
    "# 1. Make sure you defined SimpleCNN and loaded your weights into model as we discussed\n",
    "#    model = SimpleCNN(); model.load_state_dict(torch.load(\"WeightsProbe.pth\", map_location=device))\n",
    "\n",
    "# 2. Choose your folder path (where your .npy files are)\n",
    "folder_path = r\"C:\\Users\\mayer\\Работен плот\\final forest detector\\sample_veg_detection_data\\VEGETATION\"   # <-- change this to your actual folder\n",
    "\n",
    "# 3. Run classification\n",
    "results = classify_folder_using_predict_logic(\n",
    "    model,\n",
    "    folder_path=folder_path,\n",
    "    device=device,                # same device as you loaded the model on\n",
    "    input_size=(64,64),           # must match training\n",
    "    threshold=0.45,                # vegetation if prob >= 0.5\n",
    "    #save_csv_path=\"predictions.csv\",  # optional: writes a CSV file\n",
    "    verbose=True\n",
    ")\n",
    "\n",
    "# 4. Inspect first few results\n",
    "for r in results[:5]:\n",
    "    print(r)\n",
    "\n",
    "\n",
    "# Show first few results\n",
    "for r in results[:5]:\n",
    "    print(r)\n",
    "\n",
    "# Count vegetation vs no vegetation\n",
    "veg = sum(1 for r in results if r['label']==\"VEGETATION\")\n",
    "nonveg = sum(1 for r in results if r['label']==\"NO_VEGETATION\")\n",
    "print(\"VEGETATION:\", veg, \"NO_VEGETATION:\", nonveg)\n",
    "\n"
   ]
  }
 ],
 "metadata": {
  "kernelspec": {
   "display_name": "Python 3",
   "language": "python",
   "name": "python3"
  },
  "language_info": {
   "codemirror_mode": {
    "name": "ipython",
    "version": 3
   },
   "file_extension": ".py",
   "mimetype": "text/x-python",
   "name": "python",
   "nbconvert_exporter": "python",
   "pygments_lexer": "ipython3",
   "version": "3.13.5"
  }
 },
 "nbformat": 4,
 "nbformat_minor": 5
}
