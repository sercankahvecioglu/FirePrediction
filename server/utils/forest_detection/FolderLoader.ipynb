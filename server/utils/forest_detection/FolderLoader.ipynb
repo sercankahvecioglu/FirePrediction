{
 "cells": [
  {
   "cell_type": "code",
   "execution_count": 13,
   "id": "ba765a2b",
   "metadata": {},
   "outputs": [
    {
     "ename": "SyntaxError",
     "evalue": "unterminated string literal (detected at line 6); perhaps you escaped the end quote? (2423892847.py, line 6)",
     "output_type": "error",
     "traceback": [
      "  \u001b[36mCell\u001b[39m\u001b[36m \u001b[39m\u001b[32mIn[13]\u001b[39m\u001b[32m, line 6\u001b[39m\n\u001b[31m    \u001b[39m\u001b[31mfolder = r\"C:\\Users\\mayer\\Работен плот\\final forest detector\\sample_veg_detection_data - Copy\\\"  # change this to your folder\u001b[39m\n             ^\n\u001b[31mSyntaxError\u001b[39m\u001b[31m:\u001b[39m unterminated string literal (detected at line 6); perhaps you escaped the end quote?\n"
     ]
    }
   ],
   "source": [
    "import os\n",
    "import numpy as np\n",
    "import matplotlib.pyplot as plt\n",
    "\n",
    "# --- Settings ---\n",
    "folder = r\"C:\\Users\\mayer\\Работен плот\\final forest detector\\sample_veg_detection_data - Copy\\\"  # change this to your folder\n",
    "\n",
    "# --- Gather files ---\n",
    "files = [f for f in os.listdir(folder) if f.endswith('.npy')]\n",
    "files.sort()\n",
    "if not files:\n",
    "    raise ValueError(\"No .npy files found in the folder!\")\n",
    "\n",
    "# --- Helpers ---\n",
    "def load_and_process(path):\n",
    "    data = np.load(path)\n",
    "    if data.ndim == 3 and data.shape[-1] >= 5:\n",
    "        r = data[..., 3]\n",
    "        g = data[..., 2]\n",
    "        b = data[..., 1]\n",
    "        rgb = np.stack([r, g, b], axis=-1)\n",
    "        mn, mx = rgb.min(), rgb.max()\n",
    "        rgb = (rgb - mn) / (mx - mn + 1e-9)\n",
    "        return np.clip(rgb, 0, 1)\n",
    "    else:\n",
    "        arr = data.astype(float)\n",
    "        mn, mx = arr.min(), arr.max()\n",
    "        arr = (arr - mn) / (mx - mn + 1e-9)\n",
    "        return np.clip(arr, 0, 1)\n",
    "\n",
    "# --- Loop through all files ---\n",
    "for file in files:\n",
    "    arr = load_and_process(os.path.join(folder, file))\n",
    "    plt.figure(figsize=(4, 4))\n",
    "    plt.imshow(arr)\n",
    "    plt.title(file)\n",
    "    plt.axis('off')\n",
    "    plt.show()\n"
   ]
  },
  {
   "cell_type": "markdown",
   "id": "086cc017",
   "metadata": {},
   "source": []
  }
 ],
 "metadata": {
  "kernelspec": {
   "display_name": "Python 3",
   "language": "python",
   "name": "python3"
  },
  "language_info": {
   "codemirror_mode": {
    "name": "ipython",
    "version": 3
   },
   "file_extension": ".py",
   "mimetype": "text/x-python",
   "name": "python",
   "nbconvert_exporter": "python",
   "pygments_lexer": "ipython3",
   "version": "3.13.5"
  }
 },
 "nbformat": 4,
 "nbformat_minor": 5
}
